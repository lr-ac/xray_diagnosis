{
 "cells": [
  {
   "cell_type": "code",
   "execution_count": 1,
   "metadata": {},
   "outputs": [],
   "source": [
    "import os,random\n",
    "from collections import namedtuple"
   ]
  },
  {
   "cell_type": "code",
   "execution_count": 7,
   "metadata": {},
   "outputs": [],
   "source": [
    "#other works, including the original paper, split the dataset considering that all patient xrays belong to the same dataset.\n",
    "#However, here we are splitting the data stratifiying classes to avoid unbalancing between train,val and test.\n",
    "#Note: this dataset \n",
    "\n",
    "def split_ChestXRay_dataset(args):\n",
    "\n",
    "    disease_categories = {'Atelectasis': 0, 'Cardiomegaly': 1, 'Effusion': 2,\n",
    "                          'Infiltration': 3, 'Mass': 4, 'Nodule': 5, 'Pneumonia': 6,\n",
    "                          'Pneumothorax': 7, 'Consolidation': 8, 'Edema': 9,\n",
    "                          'Emphysema': 10, 'Fibrosis': 11, 'Pleural_Thickening': 12, 'Hernia': 13,\n",
    "                          }\n",
    "\n",
    "    col_nanes = ['FileName', 'Atelectasis', 'Cardiomegaly', 'Effusion', \n",
    "                 'Infiltration', 'Mass', 'Nodule', 'Pneumonia', \n",
    "                 'Pneumothorax', 'Consolidation', 'Edema', \n",
    "                 'Emphysema', 'Fibrosis', 'Pleural_Thickening', 'Hernia'\n",
    "                ]\n",
    "    \n",
    "    with open(args.path+args.source_filename, \"r+\") as source, \\\n",
    "            open(args.path+args.train_filename, \"w+\") as train, \\\n",
    "            open(args.path+args.val_filename, \"w+\") as val, \\\n",
    "            open(args.path+args.test_filename, \"w+\") as test:\n",
    "            \n",
    "            \n",
    "            diseases = {}\n",
    "            for i,raw_line in enumerate(source):\n",
    "                if i>0:\n",
    "                    line = raw_line[:-1].strip().split(',')\n",
    "                    file_name = line[0]\n",
    "                    labels = line[1].split('|')\n",
    "                    #print (labels)\n",
    "                    encoding_vector  = [str(0) for _ in range(len(disease_categories.keys()))]\n",
    "                    for label in labels:\n",
    "                        if label != \"No Finding\":\n",
    "                            encoding_vector[disease_categories[label]] = str(1)\n",
    "                    tmp = repr(encoding_vector)\n",
    "                    #print (tmp)\n",
    "                    if tmp in diseases.keys():\n",
    "                        diseases[tmp].append([file_name]+encoding_vector)\n",
    "                    else:\n",
    "                        diseases[tmp] = [[file_name]+encoding_vector]\n",
    "                    \n",
    "                    #if i==999:\n",
    "                    #    break\n",
    "            train_set = []\n",
    "            test_set = []\n",
    "            val_set = []\n",
    "            for k,v in diseases.items():\n",
    "                #print (k,len(v))\n",
    "                random.shuffle(v)\n",
    "                for j,v2 in enumerate(v):\n",
    "                    if j < len(v)*0.7:\n",
    "                        train_set.append(v2)\n",
    "                    elif j < len(v)*0.8:\n",
    "                        val_set.append(v2)\n",
    "                    else:\n",
    "                        test_set.append(v2)\n",
    "            #print (test_set)\n",
    "            random.shuffle(train_set)\n",
    "            random.shuffle(test_set)\n",
    "            random.shuffle(val_set)\n",
    "                \n",
    "            for v in train_set:\n",
    "                train.write(\"{}\\n\".format(','.join(v)))\n",
    "            for v in val_set:\n",
    "                val.write(\"{}\\n\".format(','.join(v)))\n",
    "            for v in test_set:\n",
    "                test.write(\"{}\\n\".format(','.join(v)))\n",
    "            \n"
   ]
  },
  {
   "cell_type": "code",
   "execution_count": 8,
   "metadata": {},
   "outputs": [],
   "source": [
    "args = namedtuple('args', ['path','source_filename','train_filename',\n",
    "                           'val_filename','test_filename'])(\n",
    "                             \"dataset/\",\"Data_Entry_2017.csv\", \"train_set.csv\",\n",
    "                             \"val_set.csv\", \"test_set.csv\")\n",
    "split_ChestXRay_dataset(args)"
   ]
  },
  {
   "cell_type": "code",
   "execution_count": null,
   "metadata": {},
   "outputs": [],
   "source": []
  }
 ],
 "metadata": {
  "colab": {
   "default_view": {},
   "name": "Download_script.ipynb",
   "provenance": [],
   "version": "0.3.2",
   "views": {}
  },
  "kernelspec": {
   "display_name": "Python 3",
   "language": "python",
   "name": "python3"
  },
  "language_info": {
   "codemirror_mode": {
    "name": "ipython",
    "version": 3
   },
   "file_extension": ".py",
   "mimetype": "text/x-python",
   "name": "python",
   "nbconvert_exporter": "python",
   "pygments_lexer": "ipython3",
   "version": "3.6.2"
  }
 },
 "nbformat": 4,
 "nbformat_minor": 2
}
